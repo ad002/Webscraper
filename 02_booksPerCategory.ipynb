{
 "cells": [
  {
   "cell_type": "markdown",
   "metadata": {},
   "source": [
    "# Books per Category\n",
    "- The aim of this notebook is to scrape all relevant data from books.toscrape.com to see how many books they offer per category"
   ]
  },
  {
   "cell_type": "code",
   "execution_count": 151,
   "metadata": {},
   "outputs": [],
   "source": [
    "from bs4 import BeautifulSoup\n",
    "import requests"
   ]
  },
  {
   "cell_type": "markdown",
   "metadata": {},
   "source": [
    "## Loading, extracting and parsing html"
   ]
  },
  {
   "cell_type": "code",
   "execution_count": 152,
   "metadata": {},
   "outputs": [],
   "source": [
    "#Downloading the data with requsts.get()\n",
    "data = requests.get('http://books.toscrape.com/catalogue/category/books_1/index.html')\n",
    "#Getting the plain text\n",
    "html = data.text\n",
    "#Parsing the data w/ BeautifulSoup\n",
    "soup = BeautifulSoup(html, 'html.parser')\n",
    "#Shorter: soup = BeautifulSoup(data.text, 'html.parser')"
   ]
  },
  {
   "cell_type": "code",
   "execution_count": 153,
   "metadata": {},
   "outputs": [
    {
     "name": "stdout",
     "output_type": "stream",
     "text": [
      "<!DOCTYPE html>\n",
      "<!--[if lt IE 7]>      <html lang=\"en-us\" class=\"no-js lt-ie9 lt-ie8 lt-ie7\"> <![end\n"
     ]
    }
   ],
   "source": [
    "#Having a look at the data, just showing the first 101 elements of the string object prettify returns\n",
    "print(soup.prettify()[0:100])"
   ]
  },
  {
   "cell_type": "markdown",
   "metadata": {},
   "source": [
    "## Defining data needed | Website & Link Structure\n",
    "- for our analysis we need the category names and the number of books per category\n",
    "- we have to access every category 'frontpage' one after another to get the number of results shown there\n",
    "- when looking at the link structure one can see that they start with http://books.toscrape.com/catalogue/category/books_1/index.html\n",
    "- then for the first category you have \n",
    "http://books.toscrape.com/catalogue/category/books/travel_2/index.html\n",
    "- and so on: http://books.toscrape.com/catalogue/category/books/mystery_3/index.html \n",
    "- so it appears to be the fact that after /category you have the name of the category, followed by an underscore and a consecutive numer"
   ]
  },
  {
   "cell_type": "markdown",
   "metadata": {},
   "source": [
    "## Plan: \n",
    "- use homepage to extract category names | Update: Used an external text file for category names\n",
    "- use category names to automatically build the links for the categories \n",
    "- visit every category page and extract the number of books they have\n",
    "- Analysis"
   ]
  },
  {
   "cell_type": "markdown",
   "metadata": {},
   "source": [
    "## Getting Category Names"
   ]
  },
  {
   "cell_type": "code",
   "execution_count": 245,
   "metadata": {},
   "outputs": [],
   "source": [
    "#as we already have the home-page, after inspecting I see all links/category names are stored in a <li> tag \n",
    "links = soup.find_all('li')"
   ]
  },
  {
   "cell_type": "code",
   "execution_count": 246,
   "metadata": {},
   "outputs": [
    {
     "data": {
      "text/plain": [
       "['Home', 'Books']"
      ]
     },
     "execution_count": 246,
     "metadata": {},
     "output_type": "execute_result"
    }
   ],
   "source": [
    "#Empty list for text insinde the <li> tag\n",
    "li_text = []\n",
    "#Iterate trough the links, extract only the text and append to the emtpy list\n",
    "for i in links:\n",
    "    li_text.append(i.text.strip())\n",
    "#This seemed to be fine but after the third element (when trying to access [0:3] it all fucks up due to \\n)\n",
    "li_text[0:2]"
   ]
  },
  {
   "cell_type": "code",
   "execution_count": 247,
   "metadata": {},
   "outputs": [],
   "source": [
    "#As this doesn't work out I'll move on to my - let's say - a bit cheating method\n",
    "#li_text.remove('n')"
   ]
  },
  {
   "cell_type": "markdown",
   "metadata": {},
   "source": [
    "## Refresher: Reading in Files"
   ]
  },
  {
   "cell_type": "code",
   "execution_count": 248,
   "metadata": {},
   "outputs": [],
   "source": [
    "#I just copy pasted the List names into a txt file and will read that in \n",
    "categories = open('categories.txt', 'r')"
   ]
  },
  {
   "cell_type": "code",
   "execution_count": 249,
   "metadata": {},
   "outputs": [
    {
     "data": {
      "text/plain": [
       "'Books\\nTravel\\nMystery\\nHistorical Fiction\\nSequential Art\\nClassics\\nPhilosophy\\nRomance\\nWomens Fiction\\nFiction\\nChildrens\\nReligion\\nNonfiction\\nMusic\\nDefault\\nScience Fiction\\nSports and Games\\nAdd a comment\\nFantasy\\nNew Adult\\nYoung Adult\\nScience\\nPoetry\\nParanormal\\nArt\\nPsychology\\nAutobiography\\nParenting\\nAdult Fiction\\nHumor\\nHorror\\nHistory\\nFood and Drink\\nChristian Fiction\\nBusiness\\nBiography\\nThriller\\nContemporary\\nSpirituality\\nAcademic\\nSelf Help\\nHistorical\\nChristian\\nSuspense\\nShort Stories\\nNovels\\nHealth\\nPolitics\\nCultural\\nErotica\\nCrime'"
      ]
     },
     "execution_count": 249,
     "metadata": {},
     "output_type": "execute_result"
    }
   ],
   "source": [
    "#If you were to store this in a variable for later transformation, this variable would be of type str\n",
    "categories = categories.read()\n",
    "categories"
   ]
  },
  {
   "cell_type": "code",
   "execution_count": 250,
   "metadata": {},
   "outputs": [
    {
     "data": {
      "text/plain": [
       "['Books\\n',\n",
       " 'Travel\\n',\n",
       " 'Mystery\\n',\n",
       " 'Historical Fiction\\n',\n",
       " 'Sequential Art\\n']"
      ]
     },
     "execution_count": 250,
     "metadata": {},
     "output_type": "execute_result"
    }
   ],
   "source": [
    "#Another Solution for doing this in a more elegant way\n",
    "#This returns a list\n",
    "with open('categories.txt') as f:\n",
    "    categories_list = f.readlines()\n",
    "#Get first 6 elements of the list\n",
    "categories_list[0:5]"
   ]
  },
  {
   "cell_type": "code",
   "execution_count": 251,
   "metadata": {},
   "outputs": [],
   "source": [
    "#in both cases we have these annoying \\n tags due to my storage of the categories in the file\n",
    "#When we do split we remove these and automatically get a list of categories\n",
    "categories = categories.split('\\n')"
   ]
  },
  {
   "cell_type": "code",
   "execution_count": 252,
   "metadata": {},
   "outputs": [],
   "source": [
    "#Also have to lowercase them as link doesn't work with uppercase letters, need a loop as \n",
    "#'list' object has no attribute 'lower'\n",
    "categories= [i.lower() for i in categories]"
   ]
  },
  {
   "cell_type": "code",
   "execution_count": 253,
   "metadata": {},
   "outputs": [
    {
     "data": {
      "text/plain": [
       "51"
      ]
     },
     "execution_count": 253,
     "metadata": {},
     "output_type": "execute_result"
    }
   ],
   "source": [
    "#Check how many categories we have to loop through\n",
    "len(categories)"
   ]
  },
  {
   "cell_type": "markdown",
   "metadata": {},
   "source": [
    "## Using Category Names to Generate the Links\n",
    "- what's nice now: We can iterate over the list with a loop from 1 to 50 (or as many elements are in the categories list) **and** can use the same iterator for generating the number in the link (should be iterator plus 1 as index page is 1 and first Category 'Travel' is 2)\n",
    "- I'll get a problem whith all Categories >1 word of which there are 'Historical Fiction', 'Sequential Art', 'Womens Fiction', 'Science Fiction', 'Sports and Games', 'Add a comment', 'New Adult', 'Young Adult', 'Adult Fiction', 'Food and Drink', 'Chrisitan Fiction' & 'Short Stories'\n",
    "- First thought of hard coding the exceptions but as there are 12 of them I'll do a check whether string is longer than 1 I guess and if so dilimit the single words with an underscore\n",
    "- link structure: **http://books.toscrape.com/catalogue/category/books/[categoryName]_[numbers1-51]/index.html**"
   ]
  },
  {
   "cell_type": "code",
   "execution_count": 254,
   "metadata": {
    "scrolled": true
   },
   "outputs": [
    {
     "name": "stdout",
     "output_type": "stream",
     "text": [
      "['ABC1', 'ABC2', 'ABC3', 'ABC4', 'ABC5', 'ABC6', 'ABC7', 'ABC8', 'ABC9', 'ABC10', 'ABC11', 'ABC12', 'ABC13', 'ABC14', 'ABC15', 'ABC16', 'ABC17', 'ABC18', 'ABC19', 'ABC20', 'ABC21', 'ABC22', 'ABC23', 'ABC24', 'ABC25', 'ABC26', 'ABC27', 'ABC28', 'ABC29', 'ABC30', 'ABC31', 'ABC32', 'ABC33', 'ABC34', 'ABC35', 'ABC36', 'ABC37', 'ABC38', 'ABC39', 'ABC40', 'ABC41', 'ABC42', 'ABC43', 'ABC44', 'ABC45', 'ABC46', 'ABC47', 'ABC48', 'ABC49', 'ABC50', 'ABC51']\n"
     ]
    }
   ],
   "source": [
    "#Just for testing: Adding a consecutive number to a string \n",
    "print(['ABC'+str(x) for x in range(1,52)])"
   ]
  },
  {
   "cell_type": "code",
   "execution_count": 255,
   "metadata": {
    "scrolled": true
   },
   "outputs": [
    {
     "data": {
      "text/plain": [
       "['books', 'travel', 'mystery', 'historical-fiction', 'sequential-art']"
      ]
     },
     "execution_count": 255,
     "metadata": {},
     "output_type": "execute_result"
    }
   ],
   "source": [
    "#Now I need to solve problem of two words which are right now separated by a '' so I guess I replace the '' with a _\n",
    "categories = [i.replace(' ','-') for i in categories]\n",
    "categories[0:5]"
   ]
  },
  {
   "cell_type": "code",
   "execution_count": 256,
   "metadata": {},
   "outputs": [],
   "source": [
    "#Empty list for links\n",
    "linklist=[]\n",
    "#Iterate trough all categories, i is respresentative for every element in categories \n",
    "for i in categories:\n",
    "    #Take the 'baselink', add the category and add the number after an underscore\n",
    "    linklist.append('http://books.toscrape.com/catalogue/category/books/'+i+'_')\n",
    "    \n",
    "    #Initially this code was shorter and nicer but didn't work:\n",
    "    #print('http://books.toscrape.com/catalogue/category/books/'+i+'_'+str(i) for i in range(1,51))"
   ]
  },
  {
   "cell_type": "code",
   "execution_count": 257,
   "metadata": {},
   "outputs": [
    {
     "data": {
      "text/plain": [
       "['http://books.toscrape.com/catalogue/category/books/books_',\n",
       " 'http://books.toscrape.com/catalogue/category/books/travel_',\n",
       " 'http://books.toscrape.com/catalogue/category/books/mystery_',\n",
       " 'http://books.toscrape.com/catalogue/category/books/historical-fiction_',\n",
       " 'http://books.toscrape.com/catalogue/category/books/sequential-art_']"
      ]
     },
     "execution_count": 257,
     "metadata": {},
     "output_type": "execute_result"
    }
   ],
   "source": [
    "linklist[0:5]"
   ]
  },
  {
   "cell_type": "code",
   "execution_count": 258,
   "metadata": {},
   "outputs": [],
   "source": [
    "#New list with numbers\n",
    "numberlist = [a for a in range(1,52)]\n",
    "#Convert all numbers in list to str \n",
    "numberlist = [str(i) for i in numberlist]\n",
    "#add every element of numberlist to linklist or: Merge linklist with numberlist\n",
    "linklist = [a+b for a,b in zip(linklist, numberlist)]"
   ]
  },
  {
   "cell_type": "code",
   "execution_count": 259,
   "metadata": {},
   "outputs": [
    {
     "data": {
      "text/plain": [
       "['http://books.toscrape.com/catalogue/category/books/books_1',\n",
       " 'http://books.toscrape.com/catalogue/category/books/travel_2',\n",
       " 'http://books.toscrape.com/catalogue/category/books/mystery_3',\n",
       " 'http://books.toscrape.com/catalogue/category/books/historical-fiction_4',\n",
       " 'http://books.toscrape.com/catalogue/category/books/sequential-art_5']"
      ]
     },
     "execution_count": 259,
     "metadata": {},
     "output_type": "execute_result"
    }
   ],
   "source": [
    "linklist[0:5]"
   ]
  },
  {
   "cell_type": "code",
   "execution_count": 260,
   "metadata": {},
   "outputs": [],
   "source": [
    "#Had problems when appending the 'index.html' within the step so I'll do that in this step\n",
    "finalLinkElement = '/index.html'\n",
    "linklist = [i + finalLinkElement for i in linklist]"
   ]
  },
  {
   "cell_type": "code",
   "execution_count": 261,
   "metadata": {},
   "outputs": [
    {
     "data": {
      "text/plain": [
       "['http://books.toscrape.com/catalogue/category/books/books_1/index.html',\n",
       " 'http://books.toscrape.com/catalogue/category/books/travel_2/index.html',\n",
       " 'http://books.toscrape.com/catalogue/category/books/mystery_3/index.html',\n",
       " 'http://books.toscrape.com/catalogue/category/books/historical-fiction_4/index.html',\n",
       " 'http://books.toscrape.com/catalogue/category/books/sequential-art_5/index.html']"
      ]
     },
     "execution_count": 261,
     "metadata": {},
     "output_type": "execute_result"
    }
   ],
   "source": [
    "linklist[0:5]"
   ]
  },
  {
   "cell_type": "code",
   "execution_count": 262,
   "metadata": {},
   "outputs": [],
   "source": [
    "#First element is an exception as link there is 'http://books.toscrape.com/catalogue/category/books_1/index.html'\n",
    "linklist[0] = 'http://books.toscrape.com/catalogue/category/books_1/index.html'"
   ]
  },
  {
   "cell_type": "code",
   "execution_count": 263,
   "metadata": {},
   "outputs": [
    {
     "data": {
      "text/plain": [
       "['http://books.toscrape.com/catalogue/category/books_1/index.html',\n",
       " 'http://books.toscrape.com/catalogue/category/books/travel_2/index.html',\n",
       " 'http://books.toscrape.com/catalogue/category/books/mystery_3/index.html',\n",
       " 'http://books.toscrape.com/catalogue/category/books/historical-fiction_4/index.html',\n",
       " 'http://books.toscrape.com/catalogue/category/books/sequential-art_5/index.html']"
      ]
     },
     "execution_count": 263,
     "metadata": {},
     "output_type": "execute_result"
    }
   ],
   "source": [
    "linklist[0:5]"
   ]
  },
  {
   "cell_type": "markdown",
   "metadata": {},
   "source": [
    "## Getting ALL the Category Data\n",
    "- I'll need an error-code check so only if status code == 200 = succesfull, go on "
   ]
  },
  {
   "cell_type": "code",
   "execution_count": 270,
   "metadata": {},
   "outputs": [
    {
     "name": "stdout",
     "output_type": "stream",
     "text": [
      "Success\n"
     ]
    }
   ],
   "source": [
    "#Just for prototyping \n",
    "if requests.get('https://www.google.com/').status_code ==200:\n",
    "    print('Success')"
   ]
  },
  {
   "cell_type": "markdown",
   "metadata": {},
   "source": [
    "Extracting the data needed for the number of books per category will work like this using requests & BS4"
   ]
  },
  {
   "cell_type": "code",
   "execution_count": 299,
   "metadata": {},
   "outputs": [
    {
     "name": "stdout",
     "output_type": "stream",
     "text": [
      "<!DOCTYPE html>\n",
      "<!--[if lt IE 7]>      <html lang=\"en-us\" class=\"no-js lt-ie9 lt-ie8 lt-ie7\"> <![end\n"
     ]
    }
   ],
   "source": [
    "#The linklist[2] will later be represented by the iterator i \n",
    "html=requests.get(linklist[3])\n",
    "soup = BeautifulSoup(html.text,'html.parser')\n",
    "print(soup.prettify()[0:100])"
   ]
  },
  {
   "cell_type": "code",
   "execution_count": 301,
   "metadata": {},
   "outputs": [
    {
     "name": "stdout",
     "output_type": "stream",
     "text": [
      "[<strong>Historical Fiction</strong>, <strong>26</strong>, <strong>1</strong>, <strong>20</strong>, <strong>Warning!</strong>]\n"
     ]
    }
   ],
   "source": [
    "#Getting the number of books per category, stored in the tag <strong>\n",
    "tags = soup.find_all('strong')\n",
    "print(tags)"
   ]
  },
  {
   "cell_type": "code",
   "execution_count": 302,
   "metadata": {},
   "outputs": [
    {
     "data": {
      "text/plain": [
       "'26'"
      ]
     },
     "execution_count": 302,
     "metadata": {},
     "output_type": "execute_result"
    }
   ],
   "source": [
    "#Empty list for the text\n",
    "tagText=[]\n",
    "#Getting just the text out of the tags\n",
    "for i in tags:\n",
    "    tagText.append(i.text.strip())\n",
    "tagText[1]"
   ]
  },
  {
   "cell_type": "markdown",
   "metadata": {},
   "source": [
    "## Putting it all together"
   ]
  },
  {
   "cell_type": "code",
   "execution_count": 311,
   "metadata": {},
   "outputs": [
    {
     "name": "stdout",
     "output_type": "stream",
     "text": [
      "['1000', '11', '32', '26', '75', '19', '11', '35', '17', '65', '29', '7', '110', '13', '152', '16', '5', '67', '48', '6', '54', '14', '19', '1', '8', '7', '9', '1', '1', '10', '17', '18', '30', '6', '12', '5', '11', '3', '6', '1', '5', '2', '3', '1', '1', '1', '4', '3', '1', '1', '1']\n"
     ]
    }
   ],
   "source": [
    "#Empty list for number of books per category\n",
    "#NBPC stands for numberOfBooksPerCategory\n",
    "NBPC = []\n",
    "for i in linklist:\n",
    "    #Only if page available, keep going\n",
    "    if requests.get(i).status_code==200:\n",
    "        #Here comes the extracting part\n",
    "        \n",
    "        #Getting the raw html\n",
    "        html = requests.get(i)\n",
    "        #Creating Parse Tree with BeautifulSoup\n",
    "        soup=BeautifulSoup(html.text, 'html.parser')\n",
    "        #Find the tags with name 'strong' (where the number of books per category is stored in the html)\n",
    "        tags = soup.find_all('strong')\n",
    "        #Empty list for the raw text of the content of the text\n",
    "        tagText=[]\n",
    "        for i in tags:\n",
    "            tagText.append(i.text.strip())\n",
    "        #There are always 5 tags inside the 'strong' container, of which the second one is the books per category\n",
    "        NBPC.append(tagText[1])\n",
    "print(NBPC)"
   ]
  },
  {
   "cell_type": "code",
   "execution_count": 312,
   "metadata": {},
   "outputs": [
    {
     "data": {
      "text/plain": [
       "[1000, 11, 32, 26, 75]"
      ]
     },
     "execution_count": 312,
     "metadata": {},
     "output_type": "execute_result"
    }
   ],
   "source": [
    "#Converting str into ints \n",
    "NBPC = [int(i) for i in NBPC]\n",
    "NBPC[0:5]"
   ]
  },
  {
   "cell_type": "code",
   "execution_count": 319,
   "metadata": {},
   "outputs": [
    {
     "name": "stdout",
     "output_type": "stream",
     "text": [
      "{'christian-fiction': 6, 'science-fiction': 16, 'classics': 19, 'default': 152}\n"
     ]
    }
   ],
   "source": [
    "#Now we'll have to merge the Category Names with the books per Category \n",
    "#CABPC stands for CategoryAndBooksPerCategory\n",
    "CABPC = dict(zip(categories,NBPC))\n",
    "#Get 4 elements out of the dict for testing\n",
    "print({k: CABPC[k] for k in list(CABPC)[:4]})"
   ]
  },
  {
   "cell_type": "markdown",
   "metadata": {},
   "source": [
    "# Plotting / Analyis"
   ]
  },
  {
   "cell_type": "code",
   "execution_count": 321,
   "metadata": {},
   "outputs": [],
   "source": [
    "import matplotlib.pyplot as plt\n",
    "import pandas as pd"
   ]
  },
  {
   "cell_type": "code",
   "execution_count": 324,
   "metadata": {},
   "outputs": [],
   "source": [
    "#Merging two lists into a DataFrame\n",
    "df = pd.DataFrame({'Category':categories, '# Books':NBPC})"
   ]
  },
  {
   "cell_type": "code",
   "execution_count": 325,
   "metadata": {},
   "outputs": [
    {
     "data": {
      "text/html": [
       "<div>\n",
       "<style scoped>\n",
       "    .dataframe tbody tr th:only-of-type {\n",
       "        vertical-align: middle;\n",
       "    }\n",
       "\n",
       "    .dataframe tbody tr th {\n",
       "        vertical-align: top;\n",
       "    }\n",
       "\n",
       "    .dataframe thead th {\n",
       "        text-align: right;\n",
       "    }\n",
       "</style>\n",
       "<table border=\"1\" class=\"dataframe\">\n",
       "  <thead>\n",
       "    <tr style=\"text-align: right;\">\n",
       "      <th></th>\n",
       "      <th># Books</th>\n",
       "      <th>Category</th>\n",
       "    </tr>\n",
       "  </thead>\n",
       "  <tbody>\n",
       "    <tr>\n",
       "      <th>0</th>\n",
       "      <td>1000</td>\n",
       "      <td>books</td>\n",
       "    </tr>\n",
       "    <tr>\n",
       "      <th>1</th>\n",
       "      <td>11</td>\n",
       "      <td>travel</td>\n",
       "    </tr>\n",
       "    <tr>\n",
       "      <th>2</th>\n",
       "      <td>32</td>\n",
       "      <td>mystery</td>\n",
       "    </tr>\n",
       "    <tr>\n",
       "      <th>3</th>\n",
       "      <td>26</td>\n",
       "      <td>historical-fiction</td>\n",
       "    </tr>\n",
       "    <tr>\n",
       "      <th>4</th>\n",
       "      <td>75</td>\n",
       "      <td>sequential-art</td>\n",
       "    </tr>\n",
       "  </tbody>\n",
       "</table>\n",
       "</div>"
      ],
      "text/plain": [
       "   # Books            Category\n",
       "0     1000               books\n",
       "1       11              travel\n",
       "2       32             mystery\n",
       "3       26  historical-fiction\n",
       "4       75      sequential-art"
      ]
     },
     "execution_count": 325,
     "metadata": {},
     "output_type": "execute_result"
    }
   ],
   "source": [
    "df.head()"
   ]
  },
  {
   "cell_type": "code",
   "execution_count": 344,
   "metadata": {},
   "outputs": [],
   "source": [
    "#Drop first row as it contains total number of books \n",
    "df = df.iloc[1:]"
   ]
  },
  {
   "cell_type": "code",
   "execution_count": 345,
   "metadata": {},
   "outputs": [
    {
     "data": {
      "text/plain": [
       "<matplotlib.text.Text at 0x553156f0>"
      ]
     },
     "execution_count": 345,
     "metadata": {},
     "output_type": "execute_result"
    },
    {
     "data": {
      "image/png": "[encoded data removed]",
      "text/plain": [
       "<matplotlib.figure.Figure at 0x55250950>"
      ]
     },
     "metadata": {
      "needs_background": "light"
     },
     "output_type": "display_data"
    }
   ],
   "source": [
    "df['# Books'].plot(kind='bar',figsize=(15,10));\n",
    "plt.ylabel('#books')\n",
    "plt.xlabel('Categories')"
   ]
  },
  {
   "cell_type": "code",
   "execution_count": 350,
   "metadata": {},
   "outputs": [
    {
     "data": {
      "text/plain": [
       "<matplotlib.text.Text at 0x687fb750>"
      ]
     },
     "execution_count": 350,
     "metadata": {},
     "output_type": "execute_result"
    },
    {
     "data": {
      "image/png": "[encoded data removed]",
      "text/plain": [
       "<matplotlib.figure.Figure at 0x693462b0>"
      ]
     },
     "metadata": {
      "needs_background": "light"
     },
     "output_type": "display_data"
    }
   ],
   "source": [
    "ax = df.plot(kind='bar', x='Category', y='# Books', figsize=(40,30));\n",
    "ax.set_xlabel('Categories')\n",
    "ax.set_ylabel('# books per Category')"
   ]
  },
  {
   "cell_type": "code",
   "execution_count": null,
   "metadata": {},
   "outputs": [],
   "source": []
  }
 ],
 "metadata": {
  "kernelspec": {
   "display_name": "Python 3",
   "language": "python",
   "name": "python3"
  },
  "language_info": {
   "codemirror_mode": {
    "name": "ipython",
    "version": 3
   },
   "file_extension": ".py",
   "mimetype": "text/x-python",
   "name": "python",
   "nbconvert_exporter": "python",
   "pygments_lexer": "ipython3",
   "version": "3.5.3"
  }
 },
 "nbformat": 4,
 "nbformat_minor": 2
}
